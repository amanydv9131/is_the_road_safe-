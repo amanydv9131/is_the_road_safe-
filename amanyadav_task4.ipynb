{
  "nbformat": 4,
  "nbformat_minor": 0,
  "metadata": {
    "colab": {
      "name": "amanyadav_task4.ipynb",
      "provenance": []
    },
    "kernelspec": {
      "name": "python3",
      "display_name": "Python 3"
    },
    "language_info": {
      "name": "python"
    }
  },
  "cells": [
    {
      "cell_type": "code",
      "execution_count": 7,
      "metadata": {
        "id": "Aqu1vnmSXIEi"
      },
      "outputs": [],
      "source": [
        "import tensorflow as tf\n",
        "import keras                     ## we have imported all necessary libraries\n",
        "\n",
        "from keras.models import Sequential\n",
        "import tensorflow as tf  \n",
        "import pandas as pd\n",
        "import numpy as np\n",
        "import matplotlib.pyplot as plt\n",
        "import cv2 \n",
        "from PIL import Image\n",
        "import keras\n",
        "from keras.layers import Flatten,Dense\n",
        "from tensorflow import keras\n",
        "from tensorflow.keras import layers"
      ]
    },
    {
      "cell_type": "code",
      "source": [
        "! pip install -q kaggle\n"
      ],
      "metadata": {
        "id": "kLxHdMVRXntu"
      },
      "execution_count": 2,
      "outputs": []
    },
    {
      "cell_type": "code",
      "source": [
        "model=Sequential()\n",
        "model_part1=tf.keras.applications.ResNet50(\n",
        "    include_top=False,# it creates a classification layer  \n",
        "    weights=\"imagenet\",#it provides a \"standard\" measure for how good a model is for image classification. \n",
        "    input_tensor=None,\n",
        "    input_shape=(32,32,3),\n",
        "    pooling='avg', #this defines the type of pooling we want to use\n",
        "    classes = 10 \n",
        "  \n",
        ")\n",
        "for layer in model_part1.layers:\n",
        "    layer.trainable=False\n",
        "\n",
        "# here we add features to our model \n",
        "model.add(model_part1)\n",
        "model.add(Flatten())\n",
        "model.add(Dense(512,activation='relu'))\n",
        "model.add(Dense(10,activation='softmax'))"
      ],
      "metadata": {
        "id": "MVUP4FsUXY0-"
      },
      "execution_count": 15,
      "outputs": []
    },
    {
      "cell_type": "code",
      "source": [
        "fashion_mnist=keras.datasets.fashion_mnist # this is used to load the data set \n",
        "(X_train,Y_train),(X_test,Y_test)=fashion_mnist.load_data() # this loads the respective testing data and trainig data\n",
        "\n",
        "X_n = np.zeros((60000, 32, 32, 3), )\n",
        "for i,files in enumerate(X_train):\n",
        "        img=cv2.resize(files, (32,32), interpolation = cv2.INTER_AREA)\n",
        "        img= cv2.cvtColor(img,cv2.COLOR_GRAY2RGB) \n",
        "        X_n[i] = img\n",
        "           \n",
        "model.compile(optimizer=keras.optimizers.Adam(learning_rate= 1e-3),\n",
        " loss= 'categorical_crossentropy',\n",
        " metrics=['accuracy'])\n",
        "Y_train = tf.keras.utils.to_categorical(Y_train, 10) #It converst into a numpy array or  a matrix which has binary values\n",
        "Y_test = tf.keras.utils.to_categorical(Y_test, 10) ##It converst into a numpy array or  a matrix which has binary values \n"
      ],
      "metadata": {
        "id": "gnQu5_caYppu"
      },
      "execution_count": 16,
      "outputs": []
    },
    {
      "cell_type": "code",
      "source": [
        "model.fit(X_n,Y_train)\n"
      ],
      "metadata": {
        "colab": {
          "base_uri": "https://localhost:8080/"
        },
        "id": "S3wBenEwZgE9",
        "outputId": "b77f1de3-03c8-4ef8-fb7e-5f64eb854202"
      },
      "execution_count": 12,
      "outputs": [
        {
          "output_type": "stream",
          "name": "stdout",
          "text": [
            "1875/1875 [==============================] - 266s 139ms/step - loss: 0.5321 - accuracy: 0.8169\n"
          ]
        },
        {
          "output_type": "execute_result",
          "data": {
            "text/plain": [
              "<keras.callbacks.History at 0x7f6c661ca6d0>"
            ]
          },
          "metadata": {},
          "execution_count": 12
        }
      ]
    },
    {
      "cell_type": "code",
      "source": [
        "\n",
        "Xp_new =  np.zeros((10000, 32, 32, 3), )\n",
        "for i,files in enumerate(X_test):\n",
        "        img=cv2.resize(files, (32,32), interpolation = cv2.INTER_AREA)\n",
        "        img= cv2.cvtColor(img,cv2.COLOR_GRAY2RGB) \n",
        "        Xp_new[i] = img\n",
        "\n",
        "#results \n",
        "results = model.evaluate(Xp_new, Y_test)\n"
      ],
      "metadata": {
        "colab": {
          "base_uri": "https://localhost:8080/"
        },
        "id": "rWFJhsK_aGdK",
        "outputId": "8ce5401f-547d-4e91-a961-deba90cfaab8"
      },
      "execution_count": 17,
      "outputs": [
        {
          "output_type": "stream",
          "name": "stdout",
          "text": [
            "313/313 [==============================] - 42s 129ms/step - loss: 6.0611 - accuracy: 0.1219\n"
          ]
        }
      ]
    }
  ]
}