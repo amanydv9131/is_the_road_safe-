{
  "nbformat": 4,
  "nbformat_minor": 0,
  "metadata": {
    "colab": {
      "name": "aman.ipynb",
      "provenance": [],
      "collapsed_sections": []
    },
    "kernelspec": {
      "name": "python3",
      "display_name": "Python 3"
    },
    "language_info": {
      "name": "python"
    }
  },
  "cells": [
    {
      "cell_type": "code",
      "execution_count": 1,
      "metadata": {
        "id": "PH7B4Ve2db-o"
      },
      "outputs": [],
      "source": [
        "import tensorflow as tf  \n",
        "import pandas as pd\n",
        "import numpy as np\n",
        "import matplotlib.pyplot as plt\n",
        "import cv2 \n",
        "from PIL import Image\n",
        "import keras\n",
        "import glob\n",
        "from tensorflow.keras.layers import Conv2D\n",
        "from  tensorflow.nn import max_pool2d\n",
        "from tensorflow.nn import max_pool2d\n",
        "from keras.layers import Dense, Dropout, Flatten, Conv2D, MaxPool2D\n",
        "from tensorflow.keras.layers import BatchNormalization\n"
      ]
    },
    {
      "cell_type": "code",
      "source": [
        "! pip install -q kaggle\n",
        "\n"
      ],
      "metadata": {
        "id": "V1gs7tmOegqc"
      },
      "execution_count": null,
      "outputs": []
    },
    {
      "cell_type": "code",
      "source": [
        "from google.colab import files\n",
        "files.upload()\n",
        "\n"
      ],
      "metadata": {
        "id": "vrGY6oxIe8MX"
      },
      "execution_count": null,
      "outputs": []
    },
    {
      "cell_type": "code",
      "source": [
        "! mkdir ~/.kaggle\n",
        "\n",
        "! cp kaggle.json ~/.kaggle/"
      ],
      "metadata": {
        "colab": {
          "base_uri": "https://localhost:8080/"
        },
        "id": "a7auo87xfYbG",
        "outputId": "87e977bd-10a8-4357-979a-1b59a07b75ce"
      },
      "execution_count": null,
      "outputs": [
        {
          "output_type": "stream",
          "name": "stdout",
          "text": [
            "mkdir: cannot create directory ‘/root/.kaggle’: File exists\n"
          ]
        }
      ]
    },
    {
      "cell_type": "code",
      "source": [
        "! kaggle datasets download -d paultimothymooney/chest-xray-pneumonia"
      ],
      "metadata": {
        "colab": {
          "base_uri": "https://localhost:8080/"
        },
        "id": "Lkq50buEfnj8",
        "outputId": "b34cb22b-6424-4874-9614-5f0223be38dd"
      },
      "execution_count": null,
      "outputs": [
        {
          "output_type": "stream",
          "name": "stdout",
          "text": [
            "Warning: Your Kaggle API key is readable by other users on this system! To fix this, you can run 'chmod 600 /root/.kaggle/kaggle.json'\n",
            "Downloading chest-xray-pneumonia.zip to /content\n",
            " 99% 2.27G/2.29G [00:09<00:00, 247MB/s]\n",
            "100% 2.29G/2.29G [00:09<00:00, 255MB/s]\n"
          ]
        }
      ]
    },
    {
      "cell_type": "code",
      "source": [
        "! unzip chest-xray-pneumonia.zip"
      ],
      "metadata": {
        "id": "jpv4L_h-fzjq"
      },
      "execution_count": null,
      "outputs": []
    },
    {
      "cell_type": "code",
      "source": [
        "train_files=glob.glob('/content/chest_xray/train/PNEUMONIA/*')\n"
      ],
      "metadata": {
        "id": "puX5p0ILgXCH"
      },
      "execution_count": null,
      "outputs": []
    },
    {
      "cell_type": "code",
      "source": [
        "x_train=np.zeros((len(train_files),128,128),dtype='uint8')\n",
        "Y_train=np.zeros((len(train_files),1))\n"
      ],
      "metadata": {
        "id": "jC_WGttkLoRD"
      },
      "execution_count": null,
      "outputs": []
    },
    {
      "cell_type": "code",
      "source": [
        "for i,files in enumerate(train_files):\n",
        "  im=cv2.imread(files,0)\n",
        "\n",
        "  im_conv=cv2.resize(im, (128,128),interpolation=cv2.INTER_AREA)\n",
        "  x_train[i,:,:]=im_conv\n",
        "  Y_train[i]=ord(train_files[i][10])\n"
      ],
      "metadata": {
        "id": "08tHbS13LoRN"
      },
      "execution_count": null,
      "outputs": []
    },
    {
      "cell_type": "code",
      "source": [
        "model=keras.Sequential()\n",
        "model.add(Conv2D(32,(3,3),strides=2,padding='Same',activation='relu',input_shape\n",
        "=(128, 128, 1)))\n",
        "model.add(MaxPool2D((2,2),strides=(1,1)))\n",
        "model.add(BatchNormalization())\n",
        "model.add(Dropout(0.3)) #here added dropout\n",
        "model.add(Conv2D(64,(3,3), strides=1,padding= 'Same', activation='relu'))\n",
        "model.add(MaxPool2D((2,2),strides=(1,1)))\n",
        "model.add(BatchNormalization())\n",
        "model.add(Conv2D(128,(3,3), strides=1,padding= 'Same', activation='relu'))\n",
        "model.add(BatchNormalization())\n",
        "model.add(Conv2D(256,(3,3), strides=1,padding= 'Same', activation='relu'))\n",
        "model.add(MaxPool2D((2,2),strides=(1,1)))\n",
        "model.add(BatchNormalization())\n",
        "model.add(Flatten())\n",
        "model.add(Dropout(0.5))\n",
        "model.add(Dense(512, activation = \"relu\"))\n",
        "model.add(Dropout(0.5))\n",
        "model.add(Dense(3, activation = \"softmax\"))"
      ],
      "metadata": {
        "id": "5BRDgE_juXQO"
      },
      "execution_count": null,
      "outputs": []
    },
    {
      "cell_type": "code",
      "source": [
        "model.compile(optimizer=tf.keras.optimizers.Adam(learning_rate= 1e-3),\n",
        " loss='sparse_categorical_crossentropy',\n",
        " metrics=['accuracy'])\n"
      ],
      "metadata": {
        "id": "fB0ewGulzUN9"
      },
      "execution_count": null,
      "outputs": []
    },
    {
      "cell_type": "code",
      "source": [
        "model.summary()"
      ],
      "metadata": {
        "id": "cufWkiimMxZz"
      },
      "execution_count": null,
      "outputs": []
    },
    {
      "cell_type": "code",
      "source": [
        "model.fit(x_train,Y_train,epochs=3,validation_split=0.2)"
      ],
      "metadata": {
        "id": "zK45splD44H5"
      },
      "execution_count": null,
      "outputs": []
    },
    {
      "cell_type": "code",
      "source": [
        "test_files=glob.glob('/content/chest_xray/chest_xray/train/PNEUMONIA/*')\n"
      ],
      "metadata": {
        "id": "3liT13qZAm_p"
      },
      "execution_count": null,
      "outputs": []
    },
    {
      "cell_type": "code",
      "source": [
        "x_test=np.zeros((len(test_files),128,128),dtype='uint8')\n",
        "Y_test=np.zeros((len(test_files),1))\n"
      ],
      "metadata": {
        "id": "tes1J7sYBDrU"
      },
      "execution_count": null,
      "outputs": []
    },
    {
      "cell_type": "code",
      "source": [
        "for i,files in enumerate(test_files):\n",
        "  im=cv2.imread(files,0)\n",
        "\n",
        "  im_conv=cv2.resize(im, (128,128),interpolation=cv2.INTER_AREA)\n",
        "  x_test[i,:,:]=im_conv\n",
        "  Y_test[i]=ord(test_files[i][10])\n"
      ],
      "metadata": {
        "id": "28YWZ0JtBDrd"
      },
      "execution_count": null,
      "outputs": []
    },
    {
      "cell_type": "code",
      "source": [
        "modelpredictor=model.predict(x_test,batch_size=None,verbose=0,steps=None,callbacks=None, max_queue_size=10,workers=1,use_multiprocessing\n",
        "                             =False)"
      ],
      "metadata": {
        "id": "OeLsevymDkKj"
      },
      "execution_count": null,
      "outputs": []
    },
    {
      "cell_type": "markdown",
      "source": [
        "# New Section"
      ],
      "metadata": {
        "id": "3ZsIM8SRsirQ"
      }
    }
  ]
}